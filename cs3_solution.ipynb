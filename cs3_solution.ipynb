{
 "cells": [
  {
   "cell_type": "markdown",
   "metadata": {},
   "source": [
    "Loading headline data:"
   ]
  },
  {
   "cell_type": "code",
   "execution_count": 1,
   "metadata": {},
   "outputs": [
    {
     "name": "stdout",
     "output_type": "stream",
     "text": [
      "650 headlines have been loaded\n"
     ]
    }
   ],
   "source": [
    "headline_file = open('headlines.txt', 'r')\n",
    "headlines = [line.strip() for line in headline_file.readlines()]\n",
    "num_headlines = len(headlines)\n",
    "print(f\"{num_headlines} headlines have been loaded\")"
   ]
  },
  {
   "cell_type": "markdown",
   "metadata": {},
   "source": [
    "Extract city and country names:\n",
    "    1. transform each location name into a case and accent-independent regular expression"
   ]
  },
  {
   "cell_type": "code",
   "execution_count": 2,
   "metadata": {},
   "outputs": [],
   "source": [
    "import re\n",
    "from unidecode import unidecode\n",
    "\n",
    "def name_to_regex(name):\n",
    "    decoded_name = unidecode(name)\n",
    "    if name != decoded_name:\n",
    "        regex = fr'\\b({name}|{decoded_name})\\b'\n",
    "    else:\n",
    "        regex = fr'\\b{name}\\b'\n",
    "    return re.compile(regex, flags=re.IGNORECASE)"
   ]
  },
  {
   "cell_type": "markdown",
   "metadata": {},
   "source": [
    "    2. Create mapping between regex and original names in GeoNamesCache"
   ]
  },
  {
   "cell_type": "code",
   "execution_count": 3,
   "metadata": {},
   "outputs": [],
   "source": [
    "from geonamescache import GeonamesCache\n",
    "\n",
    "gc = GeonamesCache()\n",
    "countries = [country['name'] for country in gc.get_countries().values()]\n",
    "country_to_name = {name_to_regex(name): name for name in countries}\n",
    "\n",
    "cities = [city['name'] for city in gc.get_cities().values()]\n",
    "city_to_name = {name_to_regex(name): name for name in cities}"
   ]
  },
  {
   "cell_type": "markdown",
   "metadata": {},
   "source": [
    "    3. Use mappings to look for location names in text and summarize data"
   ]
  },
  {
   "cell_type": "code",
   "execution_count": 6,
   "metadata": {},
   "outputs": [],
   "source": [
    "def get_name_in_text(text, dictionary):\n",
    "    for regex, name in sorted(dictionary.items(), key=lambda x: x[1]):\n",
    "        if regex.search(text):\n",
    "            return name\n",
    "    return None"
   ]
  },
  {
   "cell_type": "code",
   "execution_count": 8,
   "metadata": {},
   "outputs": [],
   "source": [
    "import pandas as pd\n",
    "\n",
    "matched_countries = [get_name_in_text(headline, country_to_name) for headline in headlines]\n",
    "matched_cities = [get_name_in_text(headline, city_to_name) for headline in headlines]\n",
    "\n",
    "data = {'Headline': headlines, 'City': matched_cities, 'Country': matched_countries}\n",
    "df = pd.DataFrame(data)"
   ]
  },
  {
   "cell_type": "code",
   "execution_count": 9,
   "metadata": {},
   "outputs": [
    {
     "name": "stdout",
     "output_type": "stream",
     "text": [
      "       City Country\n",
      "count   619      15\n",
      "unique  510      10\n",
      "top      Of  Brazil\n",
      "freq     45       3\n"
     ]
    }
   ],
   "source": [
    "summary = df[['City', 'Country']].describe()\n",
    "print(summary)\n",
    "# doesn't seem right!\n",
    "# The 45 instances of Of are more likely to match the preposition than the rarely referenced Turkish location."
   ]
  },
  {
   "cell_type": "code",
   "execution_count": 10,
   "metadata": {},
   "outputs": [
    {
     "name": "stdout",
     "output_type": "stream",
     "text": [
      "City                                           Headline\n",
      " Of              Case of Measles Reported in Vancouver\n",
      " Of  Authorities are Worried about the Spread of Br...\n",
      " Of  Authorities are Worried about the Spread of Ma...\n",
      " Of  Rochester authorities confirmed the spread of ...\n",
      " Of     Tokyo Encounters Severe Symptoms of Meningitis\n",
      " Of  Authorities are Worried about the Spread of In...\n",
      " Of            Spike of Pneumonia Cases in Springfield\n",
      " Of  The Spread of Measles in Spokane has been Conf...\n",
      " Of                    Outbreak of Zika in Panama City\n",
      " Of    Urbana Encounters Severe Symptoms of Meningitis\n"
     ]
    }
   ],
   "source": [
    "of_cities = df[df.City == 'Of'][['City', 'Headline']]\n",
    "ten_of_cities = of_cities.head(10)\n",
    "print(ten_of_cities.to_string(index=False))"
   ]
  },
  {
   "cell_type": "markdown",
   "metadata": {},
   "source": [
    "    4. Find multi-city headlines"
   ]
  },
  {
   "cell_type": "code",
   "execution_count": 14,
   "metadata": {},
   "outputs": [
    {
     "name": "stdout",
     "output_type": "stream",
     "text": [
      "69 headlines match multiple cities\n"
     ]
    }
   ],
   "source": [
    "def get_cities_in_headline(headline):\n",
    "    cities_in_headline = set()\n",
    "    for regex, name in city_to_name.items():\n",
    "        match = regex.search(headline)\n",
    "        if match:\n",
    "            if headline[match.start()].isupper():\n",
    "                cities_in_headline.add(name)\n",
    "    return list(cities_in_headline)\n",
    "\n",
    "df['Cities'] = df['Headline'].apply(get_cities_in_headline)\n",
    "df['Num_cities'] = df['Cities'].apply(len)\n",
    "df_multiple_cities = df[df.Num_cities > 1]\n",
    "num_rows, _ = df_multiple_cities.shape\n",
    "print(f\"{num_rows} headlines match multiple cities\")"
   ]
  },
  {
   "cell_type": "code",
   "execution_count": 17,
   "metadata": {},
   "outputs": [
    {
     "name": "stdout",
     "output_type": "stream",
     "text": [
      "Cities                                           Headline\n",
      "        [New York City, York]                    Could Zika Reach New York City?\n",
      "         [Miami Beach, Miami]                  First Case of Zika in Miami Beach\n",
      "              [San, San Juan]  San Juan reports 1st U.S. Zika-related death a...\n",
      "   [Los Ángeles, Los Angeles]               New Los Angeles Hairstyle goes Viral\n",
      "                 [Bay, Tampa]              Tampa Bay Area Zika Case Count Climbs\n",
      "       [Ho, Ho Chi Minh City]     Zika cases in Vietnam's Ho Chi Minh City surge\n",
      "             [San Diego, San]           Key Zika Findings in San Diego Institute\n",
      "          [Kuala Lumpur, Hīt]                 Kuala Lumpur is Hit By Zika Threat\n",
      "         [San Francisco, San]                   Zika Virus Reaches San Francisco\n",
      "[San Salvador, Salvador, San]                       Zika worries in San Salvador\n"
     ]
    }
   ],
   "source": [
    "ten_cities = df_multiple_cities[['Cities', 'Headline']].head(10)\n",
    "print(ten_cities.to_string(index=False))"
   ]
  },
  {
   "cell_type": "code",
   "execution_count": 18,
   "metadata": {},
   "outputs": [],
   "source": [
    "def get_longest_city(cities):\n",
    "    if cities:\n",
    "        return max(cities, key=len)\n",
    "    return None\n",
    "\n",
    "df['City'] = df['Cities'].apply(get_longest_city)"
   ]
  },
  {
   "cell_type": "code",
   "execution_count": 19,
   "metadata": {},
   "outputs": [
    {
     "name": "stdout",
     "output_type": "stream",
     "text": [
      "City                                           Headline\n",
      "Lima                Lima tries to address Zika Concerns\n",
      "Pune                     Pune woman diagnosed with Zika\n",
      "Rome  Authorities are Worried about the Spread of Ma...\n",
      "Molo                Molo Cholera Spread Causing Concern\n",
      "Miri                               Zika arrives in Miri\n",
      "Nadi  More people in Nadi are infected with HIV ever...\n",
      "Baud  Rumors about Tuberculosis Spreading in Baud ha...\n",
      "Kobe                     Chikungunya re-emerges in Kobe\n",
      "Waco                More Zika patients reported in Waco\n",
      "Erie                        Erie County sets Zika traps\n",
      "Kent                       Kent is infested with Rabies\n",
      "Reno  The Spread of Gonorrhea in Reno has been Confi...\n",
      "Sibu                      Zika symptoms spotted in Sibu\n",
      "Baku    The Spread of Herpes in Baku has been Confirmed\n",
      "Bonn  Contaminated Meat Brings Trouble for Bonn Farmers\n",
      "Jaén                         Zika Troubles come to Jaen\n",
      "Yuma                       Zika seminars in Yuma County\n",
      "Lyon                   Mad Cow Disease Detected in Lyon\n",
      "Yiwu  Authorities are Worried about the Spread of He...\n",
      "Suva  Suva authorities confirmed the spread of Rotav...\n"
     ]
    }
   ],
   "source": [
    "short_cities = df[df.City.str.len() <= 4][['City', 'Headline']]\n",
    "print(short_cities.to_string(index=False))"
   ]
  },
  {
   "cell_type": "code",
   "execution_count": null,
   "metadata": {},
   "outputs": [],
   "source": []
  }
 ],
 "metadata": {
  "kernelspec": {
   "display_name": "Python 3",
   "language": "python",
   "name": "python3"
  },
  "language_info": {
   "codemirror_mode": {
    "name": "ipython",
    "version": 3
   },
   "file_extension": ".py",
   "mimetype": "text/x-python",
   "name": "python",
   "nbconvert_exporter": "python",
   "pygments_lexer": "ipython3",
   "version": "3.7.1"
  },
  "toc": {
   "base_numbering": 1,
   "nav_menu": {},
   "number_sections": true,
   "sideBar": true,
   "skip_h1_title": false,
   "title_cell": "Table of Contents",
   "title_sidebar": "Contents",
   "toc_cell": false,
   "toc_position": {},
   "toc_section_display": true,
   "toc_window_display": false
  }
 },
 "nbformat": 4,
 "nbformat_minor": 2
}
